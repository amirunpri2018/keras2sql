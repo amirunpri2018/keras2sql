{
 "cells": [
  {
   "cell_type": "code",
   "execution_count": 1,
   "metadata": {},
   "outputs": [
    {
     "name": "stderr",
     "output_type": "stream",
     "text": [
      "/home/antoine/.local/lib/python3.6/site-packages/h5py/__init__.py:36: FutureWarning: Conversion of the second argument of issubdtype from `float` to `np.floating` is deprecated. In future, it will be treated as `np.float64 == np.dtype(float).type`.\n",
      "  from ._conv import register_converters as _register_converters\n",
      "Using TensorFlow backend.\n",
      "/usr/lib/python3.6/importlib/_bootstrap.py:219: RuntimeWarning: compiletime version 3.5 of module 'tensorflow.python.framework.fast_tensor_util' does not match runtime version 3.6\n",
      "  return f(*args, **kwds)\n"
     ]
    }
   ],
   "source": [
    "import os, numpy as np\n",
    "import pandas as pd\n",
    "\n",
    "os.environ[\"KERAS_BACKEND\"] = \"tensorflow\"\n",
    "\n",
    "import keras \n",
    "from sklearn import datasets\n",
    "\n",
    "from sklearn.model_selection import train_test_split\n",
    "\n",
    "from keras.utils import np_utils\n",
    "\n"
   ]
  },
  {
   "cell_type": "markdown",
   "metadata": {},
   "source": [
    "# Build a Keras Model"
   ]
  },
  {
   "cell_type": "code",
   "execution_count": 16,
   "metadata": {},
   "outputs": [],
   "source": [
    "\n",
    "\n",
    "def create_model():\n",
    "    from keras.models import Sequential\n",
    "    from keras.layers.core import Dense, Activation\n",
    "\n",
    "    model = Sequential()\n",
    "    model.add(Dense(12, input_dim=13))\n",
    "    model.add(Dense(1))\n",
    "    model.compile(optimizer='rmsprop', loss='mse')\n",
    "    return model"
   ]
  },
  {
   "cell_type": "code",
   "execution_count": 17,
   "metadata": {},
   "outputs": [],
   "source": [
    "boston  = datasets.load_boston()\n",
    "train_X, test_X, train_y, test_y = train_test_split(boston.data, boston.target, train_size=0.8, test_size=0.2, random_state=1960)\n"
   ]
  },
  {
   "cell_type": "code",
   "execution_count": null,
   "metadata": {},
   "outputs": [],
   "source": []
  },
  {
   "cell_type": "code",
   "execution_count": 18,
   "metadata": {},
   "outputs": [
    {
     "name": "stdout",
     "output_type": "stream",
     "text": [
      "(404, 13) (404,)\n"
     ]
    },
    {
     "data": {
      "text/plain": [
       "<keras.callbacks.History at 0x7faf3af5e2e8>"
      ]
     },
     "execution_count": 18,
     "metadata": {},
     "output_type": "execute_result"
    }
   ],
   "source": [
    "\n",
    "from keras.wrappers.scikit_learn import KerasRegressor\n",
    "\n",
    "clf = KerasRegressor(build_fn=create_model, epochs=12, verbose=0)\n",
    "\n",
    "print(train_X.shape , train_y.shape)\n",
    "clf.fit(train_X, train_y, verbose=0)"
   ]
  },
  {
   "cell_type": "code",
   "execution_count": 19,
   "metadata": {},
   "outputs": [
    {
     "name": "stdout",
     "output_type": "stream",
     "text": [
      "(102, 13)\n",
      "38.092304\n"
     ]
    }
   ],
   "source": [
    "print(test_X.shape)\n",
    "preds = clf.predict(test_X[0,:].reshape(1,13))\n",
    "print(preds)\n"
   ]
  },
  {
   "cell_type": "code",
   "execution_count": null,
   "metadata": {},
   "outputs": [],
   "source": []
  },
  {
   "cell_type": "markdown",
   "metadata": {},
   "source": [
    "# Generate SQL Code from the Model"
   ]
  },
  {
   "cell_type": "code",
   "execution_count": 20,
   "metadata": {},
   "outputs": [],
   "source": [
    "import json, requests, base64, dill as pickle, sys\n",
    "\n",
    "\n",
    "\n",
    "sys.setrecursionlimit(200000)\n",
    "pickle.settings['recurse'] = False\n",
    "\n",
    "# no luck for the web service... pickling feature of tensorflow and/or keras objects seems not to be a priority.\n",
    "# there is a lot of github issues in the two projects when I search for pickle keyword!!!.\n",
    "\n",
    "def test_ws_sql_gen(pickle_data):\n",
    "    WS_URL=\"http://localhost:1888/model\"\n",
    "    b64_data = base64.b64encode(pickle_data).decode('utf-8')\n",
    "    data={\"Name\":\"model1\", \"PickleData\":b64_data , \"SQLDialect\":\"postgresql\"}\n",
    "    r = requests.post(WS_URL, json=data)\n",
    "    print(r.__dict__)\n",
    "    content = r.json()\n",
    "    # print(content)\n",
    "    lSQL = content[\"model\"][\"SQLGenrationResult\"][0][\"SQL\"]\n",
    "    return lSQL;\n",
    "\n",
    "\n",
    "\n",
    "def test_sql_gen(keras_regressor , metadata):\n",
    "    import sklearn2sql.PyCodeGenerator as codegen\n",
    "    cg1 = codegen.cAbstractCodeGenerator();\n",
    "    lSQL = cg1.generateCodeWithMetadata(clf, metadata, dsn = None, dialect = \"postgresql\");\n",
    "    return lSQL[0]\n"
   ]
  },
  {
   "cell_type": "code",
   "execution_count": 21,
   "metadata": {},
   "outputs": [],
   "source": [
    "# commented .. see above\n",
    "# pickle_data = pickle.dumps(clf)\n",
    "# lSQL = test_ws_sql_gen(pickle_data)\n",
    "# print(lSQL[0:2000])"
   ]
  },
  {
   "cell_type": "code",
   "execution_count": 22,
   "metadata": {},
   "outputs": [
    {
     "name": "stdout",
     "output_type": "stream",
     "text": [
      "/usr/local/lib/python3.6/dist-packages/xgboost\n",
      "cGenerationWrapperFactory::createWrapper() <class 'keras.wrappers.scikit_learn.KerasRegressor'>\n",
      "BACKEND_DIALECT postgresql\n",
      "CREATING_DATABASE_BACKEND_DSN_DIALECT 1.2.2 None postgresql\n",
      "KERAS_REG_GENERATE_EXPRESSION_START <class 'sqlalchemy.sql.selectable.Alias'> <class 'sklearn2sql.GenericModels.Keras.cSerializedKeras'>\n",
      "{'mKerasData': <keras.wrappers.scikit_learn.KerasRegressor object at 0x7faf3afcdf98>, 'mFeatureNames': ['CRIM', 'ZN', 'INDUS', 'CHAS', 'NOX', 'RM', 'AGE', 'DIS', 'RAD', 'TAX', 'PTRATIO', 'B', 'LSTAT'], 'mClasses': None, 'mMode': 'Regression'}\n",
      "{'build_fn': <function create_model at 0x7faf3afb79d8>, 'sk_params': {'epochs': 12, 'verbose': 0}, 'model': <keras.models.Sequential object at 0x7faf3f2c0e10>}\n",
      "ABSTRACT_GENERATE_CTE keras_input keras_input 14\n",
      "GENERATING_LAYER 0 dense_5 <class 'keras.layers.core.Dense'> {'input_spec': <keras.engine.topology.InputSpec object at 0x7faf3f2c0518>, 'supports_masking': True, '_trainable_weights': [<tf.Variable 'dense_5/kernel:0' shape=(13, 12) dtype=float32_ref>, <tf.Variable 'dense_5/bias:0' shape=(12,) dtype=float32_ref>], '_non_trainable_weights': [], '_losses': [], '_updates': [], '_per_input_losses': {}, '_per_input_updates': {}, '_built': True, 'inbound_nodes': [<keras.engine.topology.Node object at 0x7faf3f2c0ef0>], 'outbound_nodes': [<keras.engine.topology.Node object at 0x7faf3f2c00b8>], 'name': 'dense_5', 'trainable': True, 'batch_input_shape': (None, 13), 'dtype': 'float32', '_initial_weights': None, 'units': 12, 'activation': <function linear at 0x7faf41c740d0>, 'use_bias': True, 'kernel_initializer': <keras.initializers.VarianceScaling object at 0x7faf3afcd630>, 'bias_initializer': <keras.initializers.Zeros object at 0x7faf3af5e0b8>, 'kernel_regularizer': None, 'bias_regularizer': None, 'activity_regularizer': None, 'kernel_constraint': None, 'bias_constraint': None, 'kernel': <tf.Variable 'dense_5/kernel:0' shape=(13, 12) dtype=float32_ref>, 'bias': <tf.Variable 'dense_5/bias:0' shape=(12,) dtype=float32_ref>}\n",
      "LAYER_CHECK_COLUMNS ('dense_5', <class 'keras.layers.core.Dense'>, (None, 13), 14, 14)\n",
      "KERAS_GENERATE_LAYER_START <class 'keras.layers.core.Dense'>\n",
      "ABSTRACT_GENERATE_CTE layer_dense_5 layer_dense_5 13\n",
      "GENERATING_LAYER 1 dense_6 <class 'keras.layers.core.Dense'> {'input_spec': <keras.engine.topology.InputSpec object at 0x7faf3af5ec18>, 'supports_masking': True, '_trainable_weights': [<tf.Variable 'dense_6/kernel:0' shape=(12, 1) dtype=float32_ref>, <tf.Variable 'dense_6/bias:0' shape=(1,) dtype=float32_ref>], '_non_trainable_weights': [], '_losses': [], '_updates': [], '_per_input_losses': {}, '_per_input_updates': {}, '_built': True, 'inbound_nodes': [<keras.engine.topology.Node object at 0x7faf3f2c00b8>], 'outbound_nodes': [], 'name': 'dense_6', 'trainable': True, '_initial_weights': None, 'units': 1, 'activation': <function linear at 0x7faf41c740d0>, 'use_bias': True, 'kernel_initializer': <keras.initializers.VarianceScaling object at 0x7faf3f2c06a0>, 'bias_initializer': <keras.initializers.Zeros object at 0x7faf3afcd4a8>, 'kernel_regularizer': None, 'bias_regularizer': None, 'activity_regularizer': None, 'kernel_constraint': None, 'bias_constraint': None, 'kernel': <tf.Variable 'dense_6/kernel:0' shape=(12, 1) dtype=float32_ref>, 'bias': <tf.Variable 'dense_6/bias:0' shape=(1,) dtype=float32_ref>}\n",
      "LAYER_CHECK_COLUMNS ('dense_6', <class 'keras.layers.core.Dense'>, (None, 12), 13, 13)\n",
      "KERAS_GENERATE_LAYER_START <class 'keras.layers.core.Dense'>\n",
      "ABSTRACT_GENERATE_CTE layer_dense_6 layer_dense_6 2\n",
      "KERAS_REG_CODE_GENERATION_END <class 'sqlalchemy.sql.selectable.Alias'> <class 'sklearn2sql.GenericModels.Keras.cSerializedKeras'>\n"
     ]
    }
   ],
   "source": [
    "lMetaData = {}\n",
    "lMetaData['features'] = list(boston.feature_names);\n",
    "lMetaData[\"targets\"] = ['TGT']\n",
    "lMetaData['primary_key'] = 'KEY'\n",
    "lMetaData['table'] = 'boston'\n",
    "\n",
    "    \n",
    "lSQL = test_sql_gen(clf , lMetaData)\n"
   ]
  },
  {
   "cell_type": "code",
   "execution_count": 23,
   "metadata": {},
   "outputs": [
    {
     "name": "stdout",
     "output_type": "stream",
     "text": [
      "WITH keras_input AS \n",
      "(SELECT \"ADS\".\"KEY\" AS \"KEY\", \"ADS\".\"CRIM\" AS \"CRIM\", \"ADS\".\"ZN\" AS \"ZN\", \"ADS\".\"INDUS\" AS \"INDUS\", \"ADS\".\"CHAS\" AS \"CHAS\", \"ADS\".\"NOX\" AS \"NOX\", \"ADS\".\"RM\" AS \"RM\", \"ADS\".\"AGE\" AS \"AGE\", \"ADS\".\"DIS\" AS \"DIS\", \"ADS\".\"RAD\" AS \"RAD\", \"ADS\".\"TAX\" AS \"TAX\", \"ADS\".\"PTRATIO\" AS \"PTRATIO\", \"ADS\".\"B\" AS \"B\", \"ADS\".\"LSTAT\" AS \"LSTAT\" \n",
      "FROM boston AS \"ADS\"), \n",
      "layer_dense_5 AS \n",
      "(SELECT keras_input.\"KEY\" AS \"KEY\", 0.0110807865858078 + -0.11323320120573044 * keras_input.\"CRIM\" + -0.31711265444755554 * keras_input.\"ZN\" + 0.46612322330474854 * keras_input.\"INDUS\" + 0.45720869302749634 * keras_input.\"CHAS\" + 0.19844095408916473 * keras_input.\"NOX\" + 0.2507675588130951 * keras_input.\"RM\" + -0.04160049557685852 * keras_input.\"AGE\" + -0.21529483795166016 * keras_input.\"DIS\" + 0.4905403256416321 * keras_input.\"RAD\" + -0.06454608589410782 * keras_input.\"TAX\" + 0.028352104127407074 * keras_input.\"PTRATIO\" + 0.14279663562774658 * keras_input.\"B\" + 0.4624735116958618 * keras_input.\"LSTAT\" AS output_1, -0.010313732549548149 + 0.3109332323074341 * keras_input.\"CRIM\" + 0.22861705720424652 * keras_input.\"ZN\" + 0.19870072603225708 * keras_input.\"INDUS\" + -0.30756035447120667 * keras_input.\"CHAS\" + 0.30439603328704834 * keras_input.\"NOX\" + 0.1047448068857193 * keras_input.\"RM\" + -0.3623547852039337 * keras_input.\"AGE\" + 0.5147193670272827 * keras_input.\"DIS\" + -0.20953652262687683 * keras_input.\"RAD\" + -0.32067835330963135 * keras_input.\"TAX\" + -0.005555625073611736 * keras_input.\"PTRATIO\" + -0.27756360173225403 * keras_input.\"B\" + -0.5179523825645447 * keras_input.\"LSTAT\" AS output_2, -0.010097582824528217 + -0.1415356695652008 * keras_input.\"CRIM\" + 0.03415471687912941 * keras_input.\"ZN\" + 0.28257763385772705 * keras_input.\"INDUS\" + -0.0429372638463974 * keras_input.\"CHAS\" + -0.35733115673065186 * keras_input.\"NOX\" + 0.3305273950099945 * keras_input.\"RM\" + 0.06288662552833557 * keras_input.\"AGE\" + 0.2619360387325287 * keras_input.\"DIS\" + -0.2189672589302063 * keras_input.\"RAD\" + 0.36265918612480164 * keras_input.\"TAX\" + -0.3082203269004822 * keras_input.\"PTRATIO\" + -0.010210500098764896 * keras_input.\"B\" + 0.25957250595092773 * keras_input.\"LSTAT\" AS output_3, 0.007844578474760056 + 0.10127967596054077 * keras_input.\"CRIM\" + -0.34824228286743164 * keras_input.\"ZN\" + -0.061052776873111725 * keras_input.\"INDUS\" + -0.3046395778656006 * keras_input.\"CHAS\" + 0.05315488949418068 * keras_input.\"NOX\" + 0.4729054868221283 * keras_input.\"RM\" + 0.11346200853586197 * keras_input.\"AGE\" + -0.025501949712634087 * keras_input.\"DIS\" + 0.23512279987335205 * keras_input.\"RAD\" + -0.012550952844321728 * keras_input.\"TAX\" + 0.44049525260925293 * keras_input.\"PTRATIO\" + -0.2012084573507309 * keras_input.\"B\" + -0.12578263878822327 * keras_input.\"LSTAT\" AS output_4, -0.052484702318906784 + 0.3646561801433563 * keras_input.\"CRIM\" + 0.17621038854122162 * keras_input.\"ZN\" + -0.37018096446990967 * keras_input.\"INDUS\" + -0.4386703073978424 * keras_input.\"CHAS\" + 0.24701043963432312 * keras_input.\"NOX\" + 0.058929443359375 * keras_input.\"RM\" + 0.07696876674890518 * keras_input.\"AGE\" + -0.37263554334640503 * keras_input.\"DIS\" + 0.44943955540657043 * keras_input.\"RAD\" + 0.37320005893707275 * keras_input.\"TAX\" + -0.4672982692718506 * keras_input.\"PTRATIO\" + -0.48140716552734375 * keras_input.\"B\" + -0.3450336754322052 * keras_input.\"LSTAT\" AS output_5, -0.01015231292694807 + -0.33079275488853455 * keras_input.\"CRIM\" + -0.3687187433242798 * keras_input.\"ZN\" + -0.49255263805389404 * keras_input.\"INDUS\" + 0.18950612843036652 * keras_input.\"CHAS\" + -0.3733840882778168 * keras_input.\"NOX\" + 0.16457825899124146 * keras_input.\"RM\" + -0.5287120938301086 * keras_input.\"AGE\" + -0.271816611289978 * keras_input.\"DIS\" + -0.31849539279937744 * keras_input.\"RAD\" + 0.17907823622226715 * keras_input.\"TAX\" + 0.2926962375640869 * keras_input.\"PTRATIO\" + -0.2218543142080307 * keras_input.\"B\" + 0.3419438898563385 * keras_input.\"LSTAT\" AS output_6, -0.009970233775675297 + 0.04651603847742081 * keras_input.\"CRIM\" + 0.019391296431422234 * keras_input.\"ZN\" + 0.3544299304485321 * keras_input.\"INDUS\" + -0.03185926377773285 * keras_input.\"CHAS\" + -0.013060633093118668 * keras_input.\"NOX\" + -0.24616914987564087 * keras_input.\"RM\" + 0.0685848519206047 * keras_input.\"AGE\" + -0.19086551666259766 * keras_input.\"DIS\" + -0.21612697839736938 * keras_input.\"RAD\" + 0.2986055612564087 * keras_input.\"TAX\" + -0.4662099778652191 * keras_input.\"PTRATIO\" + 0.22806182503700256 * keras_input.\"B\" + -0.2062484323978424 * keras_input.\"LSTAT\" AS output_7, 0.010838469490408897 + 0.5313292741775513 * keras_input.\"CRIM\" + -0.3325119912624359 * keras_input.\"ZN\" + -0.19685032963752747 * keras_input.\"INDUS\" + 0.10173355787992477 * keras_input.\"CHAS\" + -0.26731041073799133 * keras_input.\"NOX\" + -0.08768171072006226 * keras_input.\"RM\" + -0.11646217852830887 * keras_input.\"AGE\" + -0.5184046030044556 * keras_input.\"DIS\" + 0.43958601355552673 * keras_input.\"RAD\" + 0.275236576795578 * keras_input.\"TAX\" + -0.08151204138994217 * keras_input.\"PTRATIO\" + 0.3728039860725403 * keras_input.\"B\" + 0.32137882709503174 * keras_input.\"LSTAT\" AS output_8, 0.010156006552278996 + -0.0633830726146698 * keras_input.\"CRIM\" + 0.3772626519203186 * keras_input.\"ZN\" + -0.26240745186805725 * keras_input.\"INDUS\" + 0.05413644015789032 * keras_input.\"CHAS\" + -0.4067266285419464 * keras_input.\"NOX\" + -0.38404861092567444 * keras_input.\"RM\" + -0.40718379616737366 * keras_input.\"AGE\" + -0.3527699112892151 * keras_input.\"DIS\" + 0.4783487915992737 * keras_input.\"RAD\" + -0.05320415645837784 * keras_input.\"TAX\" + -0.3062669634819031 * keras_input.\"PTRATIO\" + 0.1798381507396698 * keras_input.\"B\" + 0.08671543747186661 * keras_input.\"LSTAT\" AS output_9, -0.010758353397250175 + -0.4059647023677826 * keras_input.\"CRIM\" + 0.317464679479599 * keras_input.\"ZN\" + 0.3223678171634674 * keras_input.\"INDUS\" + -0.3131672143936157 * keras_input.\"CHAS\" + 0.23533304035663605 * keras_input.\"NOX\" + -0.2607942521572113 * keras_input.\"RM\" + -0.1603696495294571 * keras_input.\"AGE\" + -0.1369284838438034 * keras_input.\"DIS\" + 0.09778280556201935 * keras_input.\"RAD\" + 0.13613258302211761 * keras_input.\"TAX\" + -0.34483209252357483 * keras_input.\"PTRATIO\" + -0.0633765384554863 * keras_input.\"B\" + 0.1073966920375824 * keras_input.\"LSTAT\" AS output_10, 0.010471181944012642 + -0.06761898845434189 * keras_input.\"CRIM\" + 0.12262620776891708 * keras_input.\"ZN\" + 0.3995460569858551 * keras_input.\"INDUS\" + -0.3182917535305023 * keras_input.\"CHAS\" + 0.4105421006679535 * keras_input.\"NOX\" + -0.4540517032146454 * keras_input.\"RM\" + -0.10961267352104187 * keras_input.\"AGE\" + 0.03343411535024643 * keras_input.\"DIS\" + -0.13519835472106934 * keras_input.\"RAD\" + 0.122774139046669 * keras_input.\"TAX\" + 0.22135353088378906 * keras_input.\"PTRATIO\" + 0.05940921604633331 * keras_input.\"B\" + -0.12062885612249374 * keras_input.\"LSTAT\" AS output_11, 0.009785196743905544 + 0.30712467432022095 * keras_input.\"CRIM\" + -0.0017416983610019088 * keras_input.\"ZN\" + 0.26984721422195435 * keras_input.\"INDUS\" + -0.1685977280139923 * keras_input.\"CHAS\" + -0.1699177473783493 * keras_input.\"NOX\" + 0.30809104442596436 * keras_input.\"RM\" + 0.44232842326164246 * keras_input.\"AGE\" + -0.2091318815946579 * keras_input.\"DIS\" + -0.17508633434772491 * keras_input.\"RAD\" + -0.2151447981595993 * keras_input.\"TAX\" + -0.4459318220615387 * keras_input.\"PTRATIO\" + -0.33816012740135193 * keras_input.\"B\" + -0.0854281336069107 * keras_input.\"LSTAT\" AS output_12 \n",
      "FROM keras_input), \n",
      "layer_dense_6 AS \n",
      "(SELECT layer_dense_5.\"KEY\" AS \"KEY\", 0.010090907104313374 + 0.06863685697317123 * layer_dense_5.output_1 + -0.6608609557151794 * layer_dense_5.output_2 + -0.3609050214290619 * layer_dense_5.output_3 + 0.1823570728302002 * layer_dense_5.output_4 + 0.07198773324489594 * layer_dense_5.output_5 + -0.4303153157234192 * layer_dense_5.output_6 + -0.5358919501304626 * layer_dense_5.output_7 + 0.2567809820175171 * layer_dense_5.output_8 + 0.35402214527130127 * layer_dense_5.output_9 + -0.08910840004682541 * layer_dense_5.output_10 + 0.4467085003852844 * layer_dense_5.output_11 + 0.48672038316726685 * layer_dense_5.output_12 AS output_1 \n",
      "FROM layer_dense_5)\n",
      " SELECT layer_dense_6.\"KEY\" AS \"KEY\", layer_dense_6.output_1 AS \"Estimator\" \n",
      "FROM layer_dense_6\n"
     ]
    }
   ],
   "source": [
    "print(lSQL)"
   ]
  },
  {
   "cell_type": "markdown",
   "metadata": {},
   "source": [
    "# Execute the SQL Code"
   ]
  },
  {
   "cell_type": "code",
   "execution_count": 24,
   "metadata": {},
   "outputs": [],
   "source": [
    "# save the dataset in a database table\n",
    "\n",
    "\n",
    "import sqlalchemy as sa\n",
    "\n",
    "#engine = sa.create_engine('sqlite://' , echo=False)\n",
    "engine = sa.create_engine(\"postgresql://db:db@localhost/db?port=5432\", echo=False)\n",
    "conn = engine.connect()\n",
    "\n",
    "lTable = pd.DataFrame(boston.data);\n",
    "lTable.columns = lMetaData['features']\n",
    "lTable['TGT'] = boston.target\n",
    "lTable['KEY'] = range(boston.data.shape[0])\n",
    "lTable.to_sql(lMetaData['table'] , conn,   if_exists='replace', index=False)"
   ]
  },
  {
   "cell_type": "code",
   "execution_count": 25,
   "metadata": {},
   "outputs": [],
   "source": [
    "sql_output = pd.read_sql(lSQL , conn);"
   ]
  },
  {
   "cell_type": "code",
   "execution_count": 26,
   "metadata": {},
   "outputs": [
    {
     "data": {
      "text/html": [
       "<div>\n",
       "<style scoped>\n",
       "    .dataframe tbody tr th:only-of-type {\n",
       "        vertical-align: middle;\n",
       "    }\n",
       "\n",
       "    .dataframe tbody tr th {\n",
       "        vertical-align: top;\n",
       "    }\n",
       "\n",
       "    .dataframe thead th {\n",
       "        text-align: right;\n",
       "    }\n",
       "</style>\n",
       "<table border=\"1\" class=\"dataframe\">\n",
       "  <thead>\n",
       "    <tr style=\"text-align: right;\">\n",
       "      <th></th>\n",
       "      <th>KEY</th>\n",
       "      <th>Estimator</th>\n",
       "    </tr>\n",
       "  </thead>\n",
       "  <tbody>\n",
       "    <tr>\n",
       "      <th>230</th>\n",
       "      <td>230</td>\n",
       "      <td>38.092299</td>\n",
       "    </tr>\n",
       "    <tr>\n",
       "      <th>112</th>\n",
       "      <td>112</td>\n",
       "      <td>32.701267</td>\n",
       "    </tr>\n",
       "    <tr>\n",
       "      <th>125</th>\n",
       "      <td>125</td>\n",
       "      <td>61.067988</td>\n",
       "    </tr>\n",
       "    <tr>\n",
       "      <th>9</th>\n",
       "      <td>9</td>\n",
       "      <td>43.036557</td>\n",
       "    </tr>\n",
       "    <tr>\n",
       "      <th>213</th>\n",
       "      <td>213</td>\n",
       "      <td>23.843837</td>\n",
       "    </tr>\n",
       "    <tr>\n",
       "      <th>109</th>\n",
       "      <td>109</td>\n",
       "      <td>37.850608</td>\n",
       "    </tr>\n",
       "    <tr>\n",
       "      <th>127</th>\n",
       "      <td>127</td>\n",
       "      <td>31.470673</td>\n",
       "    </tr>\n",
       "    <tr>\n",
       "      <th>244</th>\n",
       "      <td>244</td>\n",
       "      <td>34.423350</td>\n",
       "    </tr>\n",
       "    <tr>\n",
       "      <th>406</th>\n",
       "      <td>406</td>\n",
       "      <td>18.846141</td>\n",
       "    </tr>\n",
       "    <tr>\n",
       "      <th>490</th>\n",
       "      <td>490</td>\n",
       "      <td>-14.846010</td>\n",
       "    </tr>\n",
       "    <tr>\n",
       "      <th>245</th>\n",
       "      <td>245</td>\n",
       "      <td>34.971134</td>\n",
       "    </tr>\n",
       "    <tr>\n",
       "      <th>133</th>\n",
       "      <td>133</td>\n",
       "      <td>29.924067</td>\n",
       "    </tr>\n",
       "  </tbody>\n",
       "</table>\n",
       "</div>"
      ],
      "text/plain": [
       "     KEY  Estimator\n",
       "230  230  38.092299\n",
       "112  112  32.701267\n",
       "125  125  61.067988\n",
       "9      9  43.036557\n",
       "213  213  23.843837\n",
       "109  109  37.850608\n",
       "127  127  31.470673\n",
       "244  244  34.423350\n",
       "406  406  18.846141\n",
       "490  490 -14.846010\n",
       "245  245  34.971134\n",
       "133  133  29.924067"
      ]
     },
     "execution_count": 26,
     "metadata": {},
     "output_type": "execute_result"
    }
   ],
   "source": [
    "sql_output.sample(12, random_state=1960)"
   ]
  },
  {
   "cell_type": "markdown",
   "metadata": {},
   "source": [
    "# Keras Prediction"
   ]
  },
  {
   "cell_type": "code",
   "execution_count": 27,
   "metadata": {},
   "outputs": [
    {
     "data": {
      "text/html": [
       "<div>\n",
       "<style scoped>\n",
       "    .dataframe tbody tr th:only-of-type {\n",
       "        vertical-align: middle;\n",
       "    }\n",
       "\n",
       "    .dataframe tbody tr th {\n",
       "        vertical-align: top;\n",
       "    }\n",
       "\n",
       "    .dataframe thead th {\n",
       "        text-align: right;\n",
       "    }\n",
       "</style>\n",
       "<table border=\"1\" class=\"dataframe\">\n",
       "  <thead>\n",
       "    <tr style=\"text-align: right;\">\n",
       "      <th></th>\n",
       "      <th>KEY</th>\n",
       "      <th>Estimator</th>\n",
       "    </tr>\n",
       "  </thead>\n",
       "  <tbody>\n",
       "    <tr>\n",
       "      <th>230</th>\n",
       "      <td>230</td>\n",
       "      <td>38.092297</td>\n",
       "    </tr>\n",
       "    <tr>\n",
       "      <th>112</th>\n",
       "      <td>112</td>\n",
       "      <td>32.701267</td>\n",
       "    </tr>\n",
       "    <tr>\n",
       "      <th>125</th>\n",
       "      <td>125</td>\n",
       "      <td>61.067951</td>\n",
       "    </tr>\n",
       "    <tr>\n",
       "      <th>9</th>\n",
       "      <td>9</td>\n",
       "      <td>43.036564</td>\n",
       "    </tr>\n",
       "    <tr>\n",
       "      <th>213</th>\n",
       "      <td>213</td>\n",
       "      <td>23.843824</td>\n",
       "    </tr>\n",
       "    <tr>\n",
       "      <th>109</th>\n",
       "      <td>109</td>\n",
       "      <td>37.850620</td>\n",
       "    </tr>\n",
       "    <tr>\n",
       "      <th>127</th>\n",
       "      <td>127</td>\n",
       "      <td>31.470648</td>\n",
       "    </tr>\n",
       "    <tr>\n",
       "      <th>244</th>\n",
       "      <td>244</td>\n",
       "      <td>34.423344</td>\n",
       "    </tr>\n",
       "    <tr>\n",
       "      <th>406</th>\n",
       "      <td>406</td>\n",
       "      <td>18.846121</td>\n",
       "    </tr>\n",
       "    <tr>\n",
       "      <th>490</th>\n",
       "      <td>490</td>\n",
       "      <td>-14.845973</td>\n",
       "    </tr>\n",
       "    <tr>\n",
       "      <th>245</th>\n",
       "      <td>245</td>\n",
       "      <td>34.971119</td>\n",
       "    </tr>\n",
       "    <tr>\n",
       "      <th>133</th>\n",
       "      <td>133</td>\n",
       "      <td>29.924063</td>\n",
       "    </tr>\n",
       "  </tbody>\n",
       "</table>\n",
       "</div>"
      ],
      "text/plain": [
       "     KEY  Estimator\n",
       "230  230  38.092297\n",
       "112  112  32.701267\n",
       "125  125  61.067951\n",
       "9      9  43.036564\n",
       "213  213  23.843824\n",
       "109  109  37.850620\n",
       "127  127  31.470648\n",
       "244  244  34.423344\n",
       "406  406  18.846121\n",
       "490  490 -14.845973\n",
       "245  245  34.971119\n",
       "133  133  29.924063"
      ]
     },
     "execution_count": 27,
     "metadata": {},
     "output_type": "execute_result"
    }
   ],
   "source": [
    "skl_output = pd.DataFrame()\n",
    "skl_output_key = pd.DataFrame(list(range(boston.data.shape[0])), columns=['KEY']);\n",
    "skl_output_estimator = pd.DataFrame(clf.predict(boston.data), columns=['Estimator'])\n",
    "skl_output['KEY'] = skl_output_key\n",
    "skl_output['Estimator'] = skl_output_estimator\n",
    "skl_output.sample(12, random_state=1960)"
   ]
  },
  {
   "cell_type": "markdown",
   "metadata": {
    "format": "column"
   },
   "source": [
    "# Comparing the SQL and Keras Predictions"
   ]
  },
  {
   "cell_type": "code",
   "execution_count": 28,
   "metadata": {},
   "outputs": [],
   "source": [
    "sql_skl_join = skl_output.join(sql_output , how='left', on='KEY', lsuffix='_skl', rsuffix='_sql')\n",
    "sql_skl_join['Error'] = sql_skl_join.Estimator_sql - sql_skl_join.Estimator_skl"
   ]
  },
  {
   "cell_type": "code",
   "execution_count": 29,
   "metadata": {},
   "outputs": [
    {
     "data": {
      "text/html": [
       "<div>\n",
       "<style scoped>\n",
       "    .dataframe tbody tr th:only-of-type {\n",
       "        vertical-align: middle;\n",
       "    }\n",
       "\n",
       "    .dataframe tbody tr th {\n",
       "        vertical-align: top;\n",
       "    }\n",
       "\n",
       "    .dataframe thead th {\n",
       "        text-align: right;\n",
       "    }\n",
       "</style>\n",
       "<table border=\"1\" class=\"dataframe\">\n",
       "  <thead>\n",
       "    <tr style=\"text-align: right;\">\n",
       "      <th></th>\n",
       "      <th>KEY_skl</th>\n",
       "      <th>Estimator_skl</th>\n",
       "      <th>KEY_sql</th>\n",
       "      <th>Estimator_sql</th>\n",
       "      <th>Error</th>\n",
       "    </tr>\n",
       "  </thead>\n",
       "  <tbody>\n",
       "    <tr>\n",
       "      <th>0</th>\n",
       "      <td>0</td>\n",
       "      <td>33.847477</td>\n",
       "      <td>0</td>\n",
       "      <td>33.847512</td>\n",
       "      <td>0.000035</td>\n",
       "    </tr>\n",
       "    <tr>\n",
       "      <th>1</th>\n",
       "      <td>1</td>\n",
       "      <td>48.849232</td>\n",
       "      <td>1</td>\n",
       "      <td>48.849204</td>\n",
       "      <td>-0.000028</td>\n",
       "    </tr>\n",
       "    <tr>\n",
       "      <th>2</th>\n",
       "      <td>2</td>\n",
       "      <td>39.348309</td>\n",
       "      <td>2</td>\n",
       "      <td>39.348297</td>\n",
       "      <td>-0.000012</td>\n",
       "    </tr>\n",
       "    <tr>\n",
       "      <th>3</th>\n",
       "      <td>3</td>\n",
       "      <td>36.128597</td>\n",
       "      <td>3</td>\n",
       "      <td>36.128612</td>\n",
       "      <td>0.000015</td>\n",
       "    </tr>\n",
       "    <tr>\n",
       "      <th>4</th>\n",
       "      <td>4</td>\n",
       "      <td>40.555729</td>\n",
       "      <td>4</td>\n",
       "      <td>40.555736</td>\n",
       "      <td>0.000007</td>\n",
       "    </tr>\n",
       "    <tr>\n",
       "      <th>5</th>\n",
       "      <td>5</td>\n",
       "      <td>42.288509</td>\n",
       "      <td>5</td>\n",
       "      <td>42.288516</td>\n",
       "      <td>0.000007</td>\n",
       "    </tr>\n",
       "    <tr>\n",
       "      <th>6</th>\n",
       "      <td>6</td>\n",
       "      <td>35.348026</td>\n",
       "      <td>6</td>\n",
       "      <td>35.348052</td>\n",
       "      <td>0.000025</td>\n",
       "    </tr>\n",
       "    <tr>\n",
       "      <th>7</th>\n",
       "      <td>7</td>\n",
       "      <td>49.538776</td>\n",
       "      <td>7</td>\n",
       "      <td>49.538779</td>\n",
       "      <td>0.000002</td>\n",
       "    </tr>\n",
       "    <tr>\n",
       "      <th>8</th>\n",
       "      <td>8</td>\n",
       "      <td>52.205700</td>\n",
       "      <td>8</td>\n",
       "      <td>52.205727</td>\n",
       "      <td>0.000028</td>\n",
       "    </tr>\n",
       "    <tr>\n",
       "      <th>9</th>\n",
       "      <td>9</td>\n",
       "      <td>43.036564</td>\n",
       "      <td>9</td>\n",
       "      <td>43.036557</td>\n",
       "      <td>-0.000007</td>\n",
       "    </tr>\n",
       "    <tr>\n",
       "      <th>10</th>\n",
       "      <td>10</td>\n",
       "      <td>48.209240</td>\n",
       "      <td>10</td>\n",
       "      <td>48.209238</td>\n",
       "      <td>-0.000002</td>\n",
       "    </tr>\n",
       "    <tr>\n",
       "      <th>11</th>\n",
       "      <td>11</td>\n",
       "      <td>42.426243</td>\n",
       "      <td>11</td>\n",
       "      <td>42.426274</td>\n",
       "      <td>0.000032</td>\n",
       "    </tr>\n",
       "  </tbody>\n",
       "</table>\n",
       "</div>"
      ],
      "text/plain": [
       "    KEY_skl  Estimator_skl  KEY_sql  Estimator_sql     Error\n",
       "0         0      33.847477        0      33.847512  0.000035\n",
       "1         1      48.849232        1      48.849204 -0.000028\n",
       "2         2      39.348309        2      39.348297 -0.000012\n",
       "3         3      36.128597        3      36.128612  0.000015\n",
       "4         4      40.555729        4      40.555736  0.000007\n",
       "5         5      42.288509        5      42.288516  0.000007\n",
       "6         6      35.348026        6      35.348052  0.000025\n",
       "7         7      49.538776        7      49.538779  0.000002\n",
       "8         8      52.205700        8      52.205727  0.000028\n",
       "9         9      43.036564        9      43.036557 -0.000007\n",
       "10       10      48.209240       10      48.209238 -0.000002\n",
       "11       11      42.426243       11      42.426274  0.000032"
      ]
     },
     "execution_count": 29,
     "metadata": {},
     "output_type": "execute_result"
    }
   ],
   "source": [
    "sql_skl_join.head(12)"
   ]
  },
  {
   "cell_type": "code",
   "execution_count": 30,
   "metadata": {},
   "outputs": [
    {
     "data": {
      "text/html": [
       "<div>\n",
       "<style scoped>\n",
       "    .dataframe tbody tr th:only-of-type {\n",
       "        vertical-align: middle;\n",
       "    }\n",
       "\n",
       "    .dataframe tbody tr th {\n",
       "        vertical-align: top;\n",
       "    }\n",
       "\n",
       "    .dataframe thead th {\n",
       "        text-align: right;\n",
       "    }\n",
       "</style>\n",
       "<table border=\"1\" class=\"dataframe\">\n",
       "  <thead>\n",
       "    <tr style=\"text-align: right;\">\n",
       "      <th></th>\n",
       "      <th>KEY_skl</th>\n",
       "      <th>Estimator_skl</th>\n",
       "      <th>KEY_sql</th>\n",
       "      <th>Estimator_sql</th>\n",
       "      <th>Error</th>\n",
       "    </tr>\n",
       "  </thead>\n",
       "  <tbody>\n",
       "    <tr>\n",
       "      <th>count</th>\n",
       "      <td>506.000000</td>\n",
       "      <td>506.000000</td>\n",
       "      <td>506.000000</td>\n",
       "      <td>506.000000</td>\n",
       "      <td>506.000000</td>\n",
       "    </tr>\n",
       "    <tr>\n",
       "      <th>mean</th>\n",
       "      <td>252.500000</td>\n",
       "      <td>22.295050</td>\n",
       "      <td>252.500000</td>\n",
       "      <td>22.295056</td>\n",
       "      <td>0.000006</td>\n",
       "    </tr>\n",
       "    <tr>\n",
       "      <th>std</th>\n",
       "      <td>146.213884</td>\n",
       "      <td>21.583561</td>\n",
       "      <td>146.213884</td>\n",
       "      <td>21.583562</td>\n",
       "      <td>0.000016</td>\n",
       "    </tr>\n",
       "    <tr>\n",
       "      <th>min</th>\n",
       "      <td>0.000000</td>\n",
       "      <td>-46.944653</td>\n",
       "      <td>0.000000</td>\n",
       "      <td>-46.944655</td>\n",
       "      <td>-0.000050</td>\n",
       "    </tr>\n",
       "    <tr>\n",
       "      <th>25%</th>\n",
       "      <td>126.250000</td>\n",
       "      <td>9.775058</td>\n",
       "      <td>126.250000</td>\n",
       "      <td>9.775059</td>\n",
       "      <td>-0.000004</td>\n",
       "    </tr>\n",
       "    <tr>\n",
       "      <th>50%</th>\n",
       "      <td>252.500000</td>\n",
       "      <td>24.404417</td>\n",
       "      <td>252.500000</td>\n",
       "      <td>24.404425</td>\n",
       "      <td>0.000007</td>\n",
       "    </tr>\n",
       "    <tr>\n",
       "      <th>75%</th>\n",
       "      <td>378.750000</td>\n",
       "      <td>37.792643</td>\n",
       "      <td>378.750000</td>\n",
       "      <td>37.792634</td>\n",
       "      <td>0.000017</td>\n",
       "    </tr>\n",
       "    <tr>\n",
       "      <th>max</th>\n",
       "      <td>505.000000</td>\n",
       "      <td>65.194275</td>\n",
       "      <td>505.000000</td>\n",
       "      <td>65.194293</td>\n",
       "      <td>0.000054</td>\n",
       "    </tr>\n",
       "  </tbody>\n",
       "</table>\n",
       "</div>"
      ],
      "text/plain": [
       "          KEY_skl  Estimator_skl     KEY_sql  Estimator_sql       Error\n",
       "count  506.000000     506.000000  506.000000     506.000000  506.000000\n",
       "mean   252.500000      22.295050  252.500000      22.295056    0.000006\n",
       "std    146.213884      21.583561  146.213884      21.583562    0.000016\n",
       "min      0.000000     -46.944653    0.000000     -46.944655   -0.000050\n",
       "25%    126.250000       9.775058  126.250000       9.775059   -0.000004\n",
       "50%    252.500000      24.404417  252.500000      24.404425    0.000007\n",
       "75%    378.750000      37.792643  378.750000      37.792634    0.000017\n",
       "max    505.000000      65.194275  505.000000      65.194293    0.000054"
      ]
     },
     "execution_count": 30,
     "metadata": {},
     "output_type": "execute_result"
    }
   ],
   "source": [
    "sql_skl_join.describe()"
   ]
  },
  {
   "cell_type": "code",
   "execution_count": null,
   "metadata": {},
   "outputs": [],
   "source": []
  }
 ],
 "metadata": {
  "kernelspec": {
   "display_name": "Python 3",
   "language": "python",
   "name": "python3"
  },
  "language_info": {
   "codemirror_mode": {
    "name": "ipython",
    "version": 3
   },
   "file_extension": ".py",
   "mimetype": "text/x-python",
   "name": "python",
   "nbconvert_exporter": "python",
   "pygments_lexer": "ipython3",
   "version": "3.6.4+"
  }
 },
 "nbformat": 4,
 "nbformat_minor": 2
}
