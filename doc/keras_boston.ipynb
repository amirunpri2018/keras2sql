{
 "cells": [
  {
   "cell_type": "code",
   "execution_count": 1,
   "metadata": {},
   "outputs": [
    {
     "name": "stderr",
     "output_type": "stream",
     "text": [
      "Using TensorFlow backend.\n"
     ]
    }
   ],
   "source": [
    "import os, numpy as np\n",
    "import pandas as pd\n",
    "\n",
    "os.environ[\"KERAS_BACKEND\"] = \"tensorflow\"\n",
    "\n",
    "import keras \n",
    "from sklearn import datasets\n",
    "\n",
    "from sklearn.model_selection import train_test_split\n",
    "\n",
    "from keras.utils import np_utils\n",
    "\n"
   ]
  },
  {
   "cell_type": "markdown",
   "metadata": {},
   "source": [
    "# Build a Keras Model"
   ]
  },
  {
   "cell_type": "code",
   "execution_count": 2,
   "metadata": {
    "format": "row"
   },
   "outputs": [],
   "source": [
    "\n",
    "\n",
    "def create_model():\n",
    "    from keras.models import Sequential\n",
    "    from keras.layers.core import Dense, Activation\n",
    "\n",
    "    model = Sequential()\n",
    "    model.add(Dense(12, input_dim=13))\n",
    "    model.add(Dense(1))\n",
    "    model.compile(optimizer='rmsprop', loss='mse')\n",
    "    return model"
   ]
  },
  {
   "cell_type": "code",
   "execution_count": 3,
   "metadata": {},
   "outputs": [],
   "source": [
    "boston  = datasets.load_boston()\n",
    "train_X, test_X, train_y, test_y = train_test_split(boston.data, boston.target, train_size=0.8, test_size=0.2, random_state=1960)\n"
   ]
  },
  {
   "cell_type": "code",
   "execution_count": null,
   "metadata": {},
   "outputs": [],
   "source": []
  },
  {
   "cell_type": "code",
   "execution_count": 4,
   "metadata": {},
   "outputs": [
    {
     "name": "stdout",
     "output_type": "stream",
     "text": [
      "(404, 13) (404,)\n"
     ]
    },
    {
     "data": {
      "text/plain": [
       "<keras.callbacks.History at 0x7f4f772515f8>"
      ]
     },
     "execution_count": 4,
     "metadata": {},
     "output_type": "execute_result"
    }
   ],
   "source": [
    "\n",
    "from keras.wrappers.scikit_learn import KerasRegressor\n",
    "\n",
    "clf = KerasRegressor(build_fn=create_model, epochs=12, verbose=0)\n",
    "\n",
    "print(train_X.shape , train_y.shape)\n",
    "clf.fit(train_X, train_y, verbose=0)"
   ]
  },
  {
   "cell_type": "code",
   "execution_count": 5,
   "metadata": {},
   "outputs": [
    {
     "name": "stdout",
     "output_type": "stream",
     "text": [
      "(102, 13)\n",
      "19.344752418500537\n"
     ]
    }
   ],
   "source": [
    "print(test_X.shape)\n",
    "preds = clf.predict(test_X[0,:].reshape(1,13))\n",
    "print(preds)\n"
   ]
  },
  {
   "cell_type": "code",
   "execution_count": null,
   "metadata": {},
   "outputs": [],
   "source": []
  },
  {
   "cell_type": "markdown",
   "metadata": {},
   "source": [
    "# Generate SQL Code from the Model"
   ]
  },
  {
   "cell_type": "code",
   "execution_count": 6,
   "metadata": {},
   "outputs": [],
   "source": [
    "import json, requests, base64, dill as pickle, sys\n",
    "\n",
    "\n",
    "\n",
    "sys.setrecursionlimit(200000)\n",
    "pickle.settings['recurse'] = False\n",
    "\n",
    "# no luck for the web service... pickling feature of tensorflow and/or keras objects seems not to be a priority.\n",
    "# there is a lot of github issues in the two projects when I search for pickle keyword!!!.\n",
    "\n",
    "def test_ws_sql_gen(pickle_data):\n",
    "    WS_URL=\"http://localhost:1888/model\"\n",
    "    b64_data = base64.b64encode(pickle_data).decode('utf-8')\n",
    "    data={\"Name\":\"model1\", \"PickleData\":b64_data , \"SQLDialect\":\"postgresql\"}\n",
    "    r = requests.post(WS_URL, json=data)\n",
    "    print(r.__dict__)\n",
    "    content = r.json()\n",
    "    # print(content)\n",
    "    lSQL = content[\"model\"][\"SQLGenrationResult\"][0][\"SQL\"]\n",
    "    return lSQL;\n",
    "\n",
    "\n",
    "\n",
    "def test_sql_gen(keras_regressor , metadata):\n",
    "    import sklearn2sql.PyCodeGenerator as codegen\n",
    "    cg1 = codegen.cAbstractCodeGenerator();\n",
    "    cg1.mOptions.mActivateMaterialization = False\n",
    "    lSQL = cg1.generateCodeWithMetadata(clf, metadata, dsn = None, dialect = \"postgresql\");\n",
    "    return lSQL[1]\n"
   ]
  },
  {
   "cell_type": "code",
   "execution_count": 7,
   "metadata": {},
   "outputs": [],
   "source": [
    "# commented .. see above\n",
    "# pickle_data = pickle.dumps(clf)\n",
    "# lSQL = test_ws_sql_gen(pickle_data)\n",
    "# print(lSQL[0:2000])"
   ]
  },
  {
   "cell_type": "code",
   "execution_count": 8,
   "metadata": {},
   "outputs": [
    {
     "name": "stdout",
     "output_type": "stream",
     "text": [
      "cGenerationWrapperFactory::createWrapper() <class 'keras.wrappers.scikit_learn.KerasRegressor'>\n",
      "BACKEND_DIALECT postgresql\n",
      "CREATING_DATABASE_BACKEND_DSN_DIALECT 1.2.7 None postgresql\n",
      "KERAS_REG_GENERATE_EXPRESSION_START <class 'sqlalchemy.sql.selectable.Alias'> <class 'sklearn2sql.GenericModels.Keras.cSerializedKeras'>\n",
      "{'mKerasData': <keras.wrappers.scikit_learn.KerasRegressor object at 0x7f4f77292fd0>, 'mFeatureNames': ['CRIM', 'ZN', 'INDUS', 'CHAS', 'NOX', 'RM', 'AGE', 'DIS', 'RAD', 'TAX', 'PTRATIO', 'B', 'LSTAT'], 'mClasses': None, 'mMode': 'Regression'}\n",
      "{'build_fn': <function create_model at 0x7f4f772a1d90>, 'sk_params': {'epochs': 12, 'verbose': 0}, 'model': <keras.engine.sequential.Sequential object at 0x7f4f77292f98>}\n",
      "GENERATING_LAYER 0 dense_1 <class 'keras.layers.core.Dense'> {'input_spec': InputSpec(min_ndim=2, axes={-1: 13}), 'supports_masking': True, 'stateful': False, '_trainable_weights': [<tf.Variable 'dense_1/kernel:0' shape=(13, 12) dtype=float64_ref>, <tf.Variable 'dense_1/bias:0' shape=(12,) dtype=float64_ref>], '_non_trainable_weights': [], '_losses': [], '_updates': [], '_per_input_losses': {}, '_per_input_updates': {}, '_built': True, '_inbound_nodes': [<keras.engine.base_layer.Node object at 0x7f4f7729d780>], '_outbound_nodes': [<keras.engine.base_layer.Node object at 0x7f4f7729dc50>], 'name': 'dense_1', 'trainable': True, 'batch_input_shape': (None, 13), 'dtype': 'float64', '_initial_weights': None, 'units': 12, 'activation': <function linear at 0x7f4f84c0bea0>, 'use_bias': True, 'kernel_initializer': <keras.initializers.VarianceScaling object at 0x7f4f7729d160>, 'bias_initializer': <keras.initializers.Zeros object at 0x7f4f7729d7f0>, 'kernel_regularizer': None, 'bias_regularizer': None, 'activity_regularizer': None, 'kernel_constraint': None, 'bias_constraint': None, 'kernel': <tf.Variable 'dense_1/kernel:0' shape=(13, 12) dtype=float64_ref>, 'bias': <tf.Variable 'dense_1/bias:0' shape=(12,) dtype=float64_ref>}\n",
      "KERAS_GENERATE_LAYER_START <class 'keras.layers.core.Dense'>\n",
      "KERAS_CREATE_LAYER_START <class 'keras.layers.core.Dense'>\n",
      "LAYER_GENERATE_CODE_START dense_1 (None, 13)\n",
      "LAYER_GENERATE_CODE_END dense_1\n",
      "GENERATING_LAYER 1 dense_2 <class 'keras.layers.core.Dense'> {'input_spec': InputSpec(min_ndim=2, axes={-1: 12}), 'supports_masking': True, 'stateful': False, '_trainable_weights': [<tf.Variable 'dense_2/kernel:0' shape=(12, 1) dtype=float64_ref>, <tf.Variable 'dense_2/bias:0' shape=(1,) dtype=float64_ref>], '_non_trainable_weights': [], '_losses': [], '_updates': [], '_per_input_losses': {}, '_per_input_updates': {}, '_built': True, '_inbound_nodes': [<keras.engine.base_layer.Node object at 0x7f4f7729dc50>], '_outbound_nodes': [], 'name': 'dense_2', 'trainable': True, '_initial_weights': None, 'units': 1, 'activation': <function linear at 0x7f4f84c0bea0>, 'use_bias': True, 'kernel_initializer': <keras.initializers.VarianceScaling object at 0x7f4f7729d860>, 'bias_initializer': <keras.initializers.Zeros object at 0x7f4f77251710>, 'kernel_regularizer': None, 'bias_regularizer': None, 'activity_regularizer': None, 'kernel_constraint': None, 'bias_constraint': None, 'kernel': <tf.Variable 'dense_2/kernel:0' shape=(12, 1) dtype=float64_ref>, 'bias': <tf.Variable 'dense_2/bias:0' shape=(1,) dtype=float64_ref>}\n",
      "KERAS_GENERATE_LAYER_START <class 'keras.layers.core.Dense'>\n",
      "KERAS_CREATE_LAYER_START <class 'keras.layers.core.Dense'>\n",
      "LAYER_GENERATE_CODE_START dense_2 (None, 12)\n",
      "LAYER_GENERATE_CODE_END dense_2\n",
      "KERAS_REG_CODE_GENERATION_END <class 'sqlalchemy.sql.selectable.Alias'> <class 'sklearn2sql.GenericModels.Keras.cSerializedKeras'>\n",
      "TEMP_SQLS []\n",
      "FINAL_SQL WITH keras_input AS \n",
      "(SELECT \"ADS\".\"KEY\"...put_1 AS \"Estimator\" \n",
      "FROM layer_dense_2\n"
     ]
    }
   ],
   "source": [
    "lMetaData = {}\n",
    "lMetaData['features'] = list(boston.feature_names);\n",
    "lMetaData[\"targets\"] = ['TGT']\n",
    "lMetaData['primary_key'] = 'KEY'\n",
    "lMetaData['table'] = 'boston'\n",
    "\n",
    "    \n",
    "lSQL = test_sql_gen(clf , lMetaData)\n"
   ]
  },
  {
   "cell_type": "code",
   "execution_count": 9,
   "metadata": {},
   "outputs": [
    {
     "name": "stdout",
     "output_type": "stream",
     "text": [
      "WITH keras_input AS \n",
      "(SELECT \"ADS\".\"KEY\" AS \"KEY\", \"ADS\".\"CRIM\" AS \"CRIM\", \"ADS\".\"ZN\" AS \"ZN\", \"ADS\".\"INDUS\" AS \"INDUS\", \"ADS\".\"CHAS\" AS \"CHAS\", \"ADS\".\"NOX\" AS \"NOX\", \"ADS\".\"RM\" AS \"RM\", \"ADS\".\"AGE\" AS \"AGE\", \"ADS\".\"DIS\" AS \"DIS\", \"ADS\".\"RAD\" AS \"RAD\", \"ADS\".\"TAX\" AS \"TAX\", \"ADS\".\"PTRATIO\" AS \"PTRATIO\", \"ADS\".\"B\" AS \"B\", \"ADS\".\"LSTAT\" AS \"LSTAT\" \n",
      "FROM boston AS \"ADS\"), \n",
      "keras_input_1 AS \n",
      "(SELECT keras_input.\"KEY\" AS \"KEY\", keras_input.\"CRIM\" AS \"CRIM\", keras_input.\"ZN\" AS \"ZN\", keras_input.\"INDUS\" AS \"INDUS\", keras_input.\"CHAS\" AS \"CHAS\", keras_input.\"NOX\" AS \"NOX\", keras_input.\"RM\" AS \"RM\", keras_input.\"AGE\" AS \"AGE\", keras_input.\"DIS\" AS \"DIS\", keras_input.\"RAD\" AS \"RAD\", keras_input.\"TAX\" AS \"TAX\", keras_input.\"PTRATIO\" AS \"PTRATIO\", keras_input.\"B\" AS \"B\", keras_input.\"LSTAT\" AS \"LSTAT\" \n",
      "FROM keras_input), \n",
      "layer_dense_1 AS \n",
      "(SELECT keras_input_1.\"KEY\" AS \"KEY\", -0.0246028715095858 + 0.06550673902803521 * keras_input_1.\"CRIM\" + -0.036804466805360835 * keras_input_1.\"ZN\" + -0.2654917022427414 * keras_input_1.\"INDUS\" + -0.18495522243641277 * keras_input_1.\"CHAS\" + -0.17874316957783762 * keras_input_1.\"NOX\" + 0.20669682701466663 * keras_input_1.\"RM\" + 0.15144528290368087 * keras_input_1.\"AGE\" + 0.09500866097055789 * keras_input_1.\"DIS\" + -0.07101026510606287 * keras_input_1.\"RAD\" + -0.4368487100155374 * keras_input_1.\"TAX\" + -0.11470173240853343 * keras_input_1.\"PTRATIO\" + 0.202510369881339 * keras_input_1.\"B\" + 0.42990402376584136 * keras_input_1.\"LSTAT\" AS output_1, 0.022939136817286866 + 0.43265646113373424 * keras_input_1.\"CRIM\" + -0.3200113380414215 * keras_input_1.\"ZN\" + -0.36350599997506045 * keras_input_1.\"INDUS\" + 0.16847463523047254 * keras_input_1.\"CHAS\" + 0.2667341244696234 * keras_input_1.\"NOX\" + -0.10587013450760324 * keras_input_1.\"RM\" + -0.028117070013555602 * keras_input_1.\"AGE\" + -0.12255929295958538 * keras_input_1.\"DIS\" + -0.3147520436458245 * keras_input_1.\"RAD\" + -0.08324743980587354 * keras_input_1.\"TAX\" + 0.11125229718933168 * keras_input_1.\"PTRATIO\" + 0.38502312058804783 * keras_input_1.\"B\" + -0.290368364257987 * keras_input_1.\"LSTAT\" AS output_2, 0.02237883674283323 + 0.20724264824440944 * keras_input_1.\"CRIM\" + 0.18864891877430126 * keras_input_1.\"ZN\" + 0.18565315267153074 * keras_input_1.\"INDUS\" + 0.43558474726484736 * keras_input_1.\"CHAS\" + 0.17307473933049558 * keras_input_1.\"NOX\" + 0.2640645242623276 * keras_input_1.\"RM\" + -0.3525387255641954 * keras_input_1.\"AGE\" + 0.3204220769943216 * keras_input_1.\"DIS\" + -0.32886573179271267 * keras_input_1.\"RAD\" + 0.09634862232675173 * keras_input_1.\"TAX\" + 0.20446530897884246 * keras_input_1.\"PTRATIO\" + 0.41608747492001275 * keras_input_1.\"B\" + 0.024958411511221842 * keras_input_1.\"LSTAT\" AS output_3, 0.022947603167589776 + -0.024058289446922877 * keras_input_1.\"CRIM\" + -0.3431029561113631 * keras_input_1.\"ZN\" + -0.10871532051469524 * keras_input_1.\"INDUS\" + -0.3403790966660913 * keras_input_1.\"CHAS\" + -0.09710050464438535 * keras_input_1.\"NOX\" + -0.20862581820904955 * keras_input_1.\"RM\" + 0.38733256378460734 * keras_input_1.\"AGE\" + 0.2238606815112489 * keras_input_1.\"DIS\" + 0.36200068439248134 * keras_input_1.\"RAD\" + -0.2372162185717757 * keras_input_1.\"TAX\" + 0.330002527342368 * keras_input_1.\"PTRATIO\" + 0.4522377670475941 * keras_input_1.\"B\" + 0.20839645384777888 * keras_input_1.\"LSTAT\" AS output_4, 0.023048684298559472 + -0.15709171215119783 * keras_input_1.\"CRIM\" + -0.32751645182958194 * keras_input_1.\"ZN\" + 0.42307910649210634 * keras_input_1.\"INDUS\" + -0.3253183417847766 * keras_input_1.\"CHAS\" + 0.17664361333368742 * keras_input_1.\"NOX\" + -0.03650941615119302 * keras_input_1.\"RM\" + 0.37576258083059694 * keras_input_1.\"AGE\" + 0.3287237751300881 * keras_input_1.\"DIS\" + 0.37099885615060435 * keras_input_1.\"RAD\" + -0.14990860976488163 * keras_input_1.\"TAX\" + 0.272671394854231 * keras_input_1.\"PTRATIO\" + -0.13655586811061743 * keras_input_1.\"B\" + -0.4753391858903649 * keras_input_1.\"LSTAT\" AS output_5, 0.02294862369533779 + -0.020310904286986103 * keras_input_1.\"CRIM\" + -0.04330847079574076 * keras_input_1.\"ZN\" + -0.13155275146737447 * keras_input_1.\"INDUS\" + -0.21326883494346185 * keras_input_1.\"CHAS\" + 0.4820329900089988 * keras_input_1.\"NOX\" + -0.11807447416103632 * keras_input_1.\"RM\" + -0.02780575801847559 * keras_input_1.\"AGE\" + 0.3182070772628963 * keras_input_1.\"DIS\" + -0.18365863925116924 * keras_input_1.\"RAD\" + -0.11244528787353009 * keras_input_1.\"TAX\" + -0.3384435486235819 * keras_input_1.\"PTRATIO\" + 0.21851754949745267 * keras_input_1.\"B\" + 0.1191255877022396 * keras_input_1.\"LSTAT\" AS output_6, -0.02308163928925587 + -0.4171185274419055 * keras_input_1.\"CRIM\" + -0.07139388353548383 * keras_input_1.\"ZN\" + -0.13721293928883804 * keras_input_1.\"INDUS\" + -0.1990927486418023 * keras_input_1.\"CHAS\" + -0.16427448379175005 * keras_input_1.\"NOX\" + -0.3642364616537853 * keras_input_1.\"RM\" + -0.172032881233913 * keras_input_1.\"AGE\" + -0.33065593670233673 * keras_input_1.\"DIS\" + 0.23765458438938616 * keras_input_1.\"RAD\" + -0.17617951815074387 * keras_input_1.\"TAX\" + -0.06391792780830971 * keras_input_1.\"PTRATIO\" + -0.26784894981621776 * keras_input_1.\"B\" + -0.15769955278730813 * keras_input_1.\"LSTAT\" AS output_7, -0.023093057561147982 + -0.4582877753765868 * keras_input_1.\"CRIM\" + -0.2947161772094861 * keras_input_1.\"ZN\" + -0.02138446745142363 * keras_input_1.\"INDUS\" + 0.004015949093202804 * keras_input_1.\"CHAS\" + -0.022629380605397622 * keras_input_1.\"NOX\" + -0.3811312503639652 * keras_input_1.\"RM\" + 0.430091024412675 * keras_input_1.\"AGE\" + -0.3123075234917736 * keras_input_1.\"DIS\" + -0.20157609658105843 * keras_input_1.\"RAD\" + -0.08648683799745549 * keras_input_1.\"TAX\" + 0.4127937594481509 * keras_input_1.\"PTRATIO\" + 0.424821927356111 * keras_input_1.\"B\" + -0.2533372294584774 * keras_input_1.\"LSTAT\" AS output_8, -0.023228516758111526 + -0.19104183121933616 * keras_input_1.\"CRIM\" + -0.2971920859110451 * keras_input_1.\"ZN\" + 0.2608977966918948 * keras_input_1.\"INDUS\" + 0.12055944101133836 * keras_input_1.\"CHAS\" + -0.3607307133921357 * keras_input_1.\"NOX\" + 0.34977991427671945 * keras_input_1.\"RM\" + -0.2909885270094782 * keras_input_1.\"AGE\" + -0.36835968723572093 * keras_input_1.\"DIS\" + 0.06410993874803622 * keras_input_1.\"RAD\" + -0.14636835030061884 * keras_input_1.\"TAX\" + -0.21290698124887084 * keras_input_1.\"PTRATIO\" + 0.44483141385344077 * keras_input_1.\"B\" + -0.2785823019689847 * keras_input_1.\"LSTAT\" AS output_9, -0.02310063617422001 + -0.05150063525329808 * keras_input_1.\"CRIM\" + 0.40042479143497417 * keras_input_1.\"ZN\" + -0.456320921211829 * keras_input_1.\"INDUS\" + 0.0319144502131675 * keras_input_1.\"CHAS\" + -0.181090721312799 * keras_input_1.\"NOX\" + -0.24935312749944447 * keras_input_1.\"RM\" + -0.3933531912803293 * keras_input_1.\"AGE\" + -0.30546416042258495 * keras_input_1.\"DIS\" + -0.2395094426790281 * keras_input_1.\"RAD\" + -0.5082346747685222 * keras_input_1.\"TAX\" + -0.18497960909188255 * keras_input_1.\"PTRATIO\" + -0.36994799889404484 * keras_input_1.\"B\" + -0.05530636353413844 * keras_input_1.\"LSTAT\" AS output_10, 0.023076389823983755 + 0.3951306858492866 * keras_input_1.\"CRIM\" + 0.2953334567915154 * keras_input_1.\"ZN\" + -0.39309500614812015 * keras_input_1.\"INDUS\" + -0.1343319946836531 * keras_input_1.\"CHAS\" + -0.11158705589991963 * keras_input_1.\"NOX\" + -0.04460966039805792 * keras_input_1.\"RM\" + 0.24086446853917062 * keras_input_1.\"AGE\" + -0.16361121597185968 * keras_input_1.\"DIS\" + -0.07456515313830718 * keras_input_1.\"RAD\" + -0.29629621019795344 * keras_input_1.\"TAX\" + 0.2097323672265017 * keras_input_1.\"PTRATIO\" + -0.33286964647368517 * keras_input_1.\"B\" + 0.23675881276691735 * keras_input_1.\"LSTAT\" AS output_11, 0.023082755868995802 + 0.19416189497380146 * keras_input_1.\"CRIM\" + 0.5093305336542718 * keras_input_1.\"ZN\" + -0.06308151846816773 * keras_input_1.\"INDUS\" + 0.3991358867429553 * keras_input_1.\"CHAS\" + 0.2767947830751311 * keras_input_1.\"NOX\" + -0.05057638502409155 * keras_input_1.\"RM\" + -0.46180959715874415 * keras_input_1.\"AGE\" + -0.2504556637330404 * keras_input_1.\"DIS\" + -0.09343627491607473 * keras_input_1.\"RAD\" + -0.37551597812016163 * keras_input_1.\"TAX\" + 0.16722806966814274 * keras_input_1.\"PTRATIO\" + -0.42731860731104554 * keras_input_1.\"B\" + -0.4858059559902905 * keras_input_1.\"LSTAT\" AS output_12 \n",
      "FROM keras_input_1), \n",
      "layer_dense_1_1 AS \n",
      "(SELECT layer_dense_1.\"KEY\" AS \"KEY\", layer_dense_1.output_1 AS output_1, layer_dense_1.output_2 AS output_2, layer_dense_1.output_3 AS output_3, layer_dense_1.output_4 AS output_4, layer_dense_1.output_5 AS output_5, layer_dense_1.output_6 AS output_6, layer_dense_1.output_7 AS output_7, layer_dense_1.output_8 AS output_8, layer_dense_1.output_9 AS output_9, layer_dense_1.output_10 AS output_10, layer_dense_1.output_11 AS output_11, layer_dense_1.output_12 AS output_12 \n",
      "FROM layer_dense_1), \n",
      "layer_dense_2 AS \n",
      "(SELECT layer_dense_1_1.\"KEY\" AS \"KEY\", 0.02308494142441669 + -0.09398690485453931 * layer_dense_1_1.output_1 + 0.37815145380328713 * layer_dense_1_1.output_2 + 0.027640718487612324 * layer_dense_1_1.output_3 + 0.47424002274010973 * layer_dense_1_1.output_4 + 0.1352782420971391 * layer_dense_1_1.output_5 + 0.5765427664497276 * layer_dense_1_1.output_6 + -0.31320247315784794 * layer_dense_1_1.output_7 + -0.6415419073346327 * layer_dense_1_1.output_8 + -0.28102709620333444 * layer_dense_1_1.output_9 + -0.48973265545259037 * layer_dense_1_1.output_10 + 0.13733078030882137 * layer_dense_1_1.output_11 + 0.5372509332109591 * layer_dense_1_1.output_12 AS output_1 \n",
      "FROM layer_dense_1_1)\n",
      " SELECT layer_dense_2.\"KEY\" AS \"KEY\", layer_dense_2.output_1 AS \"Estimator\" \n",
      "FROM layer_dense_2\n"
     ]
    }
   ],
   "source": [
    "print(lSQL)"
   ]
  },
  {
   "cell_type": "markdown",
   "metadata": {},
   "source": [
    "# Execute the SQL Code"
   ]
  },
  {
   "cell_type": "code",
   "execution_count": 10,
   "metadata": {},
   "outputs": [],
   "source": [
    "# save the dataset in a database table\n",
    "\n",
    "\n",
    "import sqlalchemy as sa\n",
    "\n",
    "#engine = sa.create_engine('sqlite://' , echo=False)\n",
    "engine = sa.create_engine(\"postgresql://db:db@localhost/db?port=5432\", echo=False)\n",
    "conn = engine.connect()\n",
    "\n",
    "lTable = pd.DataFrame(boston.data);\n",
    "lTable.columns = lMetaData['features']\n",
    "lTable['TGT'] = boston.target\n",
    "lTable['KEY'] = range(boston.data.shape[0])\n",
    "lTable.to_sql(lMetaData['table'] , conn,   if_exists='replace', index=False)"
   ]
  },
  {
   "cell_type": "code",
   "execution_count": 11,
   "metadata": {},
   "outputs": [],
   "source": [
    "sql_output = pd.read_sql(lSQL , conn);\n",
    "conn.close()"
   ]
  },
  {
   "cell_type": "code",
   "execution_count": 12,
   "metadata": {},
   "outputs": [
    {
     "data": {
      "text/html": [
       "<div>\n",
       "<style scoped>\n",
       "    .dataframe tbody tr th:only-of-type {\n",
       "        vertical-align: middle;\n",
       "    }\n",
       "\n",
       "    .dataframe tbody tr th {\n",
       "        vertical-align: top;\n",
       "    }\n",
       "\n",
       "    .dataframe thead th {\n",
       "        text-align: right;\n",
       "    }\n",
       "</style>\n",
       "<table border=\"1\" class=\"dataframe\">\n",
       "  <thead>\n",
       "    <tr style=\"text-align: right;\">\n",
       "      <th></th>\n",
       "      <th>KEY</th>\n",
       "      <th>Estimator</th>\n",
       "    </tr>\n",
       "  </thead>\n",
       "  <tbody>\n",
       "    <tr>\n",
       "      <th>230</th>\n",
       "      <td>230</td>\n",
       "      <td>19.344752</td>\n",
       "    </tr>\n",
       "    <tr>\n",
       "      <th>112</th>\n",
       "      <td>112</td>\n",
       "      <td>15.972185</td>\n",
       "    </tr>\n",
       "    <tr>\n",
       "      <th>125</th>\n",
       "      <td>125</td>\n",
       "      <td>20.570982</td>\n",
       "    </tr>\n",
       "    <tr>\n",
       "      <th>9</th>\n",
       "      <td>9</td>\n",
       "      <td>22.340942</td>\n",
       "    </tr>\n",
       "    <tr>\n",
       "      <th>213</th>\n",
       "      <td>213</td>\n",
       "      <td>19.095113</td>\n",
       "    </tr>\n",
       "    <tr>\n",
       "      <th>109</th>\n",
       "      <td>109</td>\n",
       "      <td>17.522685</td>\n",
       "    </tr>\n",
       "    <tr>\n",
       "      <th>127</th>\n",
       "      <td>127</td>\n",
       "      <td>14.947902</td>\n",
       "    </tr>\n",
       "    <tr>\n",
       "      <th>244</th>\n",
       "      <td>244</td>\n",
       "      <td>22.793336</td>\n",
       "    </tr>\n",
       "    <tr>\n",
       "      <th>406</th>\n",
       "      <td>406</td>\n",
       "      <td>25.237959</td>\n",
       "    </tr>\n",
       "    <tr>\n",
       "      <th>490</th>\n",
       "      <td>490</td>\n",
       "      <td>3.708052</td>\n",
       "    </tr>\n",
       "    <tr>\n",
       "      <th>245</th>\n",
       "      <td>245</td>\n",
       "      <td>23.772680</td>\n",
       "    </tr>\n",
       "    <tr>\n",
       "      <th>133</th>\n",
       "      <td>133</td>\n",
       "      <td>15.204649</td>\n",
       "    </tr>\n",
       "  </tbody>\n",
       "</table>\n",
       "</div>"
      ],
      "text/plain": [
       "     KEY  Estimator\n",
       "230  230  19.344752\n",
       "112  112  15.972185\n",
       "125  125  20.570982\n",
       "9      9  22.340942\n",
       "213  213  19.095113\n",
       "109  109  17.522685\n",
       "127  127  14.947902\n",
       "244  244  22.793336\n",
       "406  406  25.237959\n",
       "490  490   3.708052\n",
       "245  245  23.772680\n",
       "133  133  15.204649"
      ]
     },
     "execution_count": 12,
     "metadata": {},
     "output_type": "execute_result"
    }
   ],
   "source": [
    "sql_output.sample(12, random_state=1960)"
   ]
  },
  {
   "cell_type": "markdown",
   "metadata": {},
   "source": [
    "# Keras Prediction"
   ]
  },
  {
   "cell_type": "code",
   "execution_count": 13,
   "metadata": {},
   "outputs": [
    {
     "data": {
      "text/html": [
       "<div>\n",
       "<style scoped>\n",
       "    .dataframe tbody tr th:only-of-type {\n",
       "        vertical-align: middle;\n",
       "    }\n",
       "\n",
       "    .dataframe tbody tr th {\n",
       "        vertical-align: top;\n",
       "    }\n",
       "\n",
       "    .dataframe thead th {\n",
       "        text-align: right;\n",
       "    }\n",
       "</style>\n",
       "<table border=\"1\" class=\"dataframe\">\n",
       "  <thead>\n",
       "    <tr style=\"text-align: right;\">\n",
       "      <th></th>\n",
       "      <th>KEY</th>\n",
       "      <th>Estimator</th>\n",
       "    </tr>\n",
       "  </thead>\n",
       "  <tbody>\n",
       "    <tr>\n",
       "      <th>230</th>\n",
       "      <td>230</td>\n",
       "      <td>19.344752</td>\n",
       "    </tr>\n",
       "    <tr>\n",
       "      <th>112</th>\n",
       "      <td>112</td>\n",
       "      <td>15.972185</td>\n",
       "    </tr>\n",
       "    <tr>\n",
       "      <th>125</th>\n",
       "      <td>125</td>\n",
       "      <td>20.570982</td>\n",
       "    </tr>\n",
       "    <tr>\n",
       "      <th>9</th>\n",
       "      <td>9</td>\n",
       "      <td>22.340942</td>\n",
       "    </tr>\n",
       "    <tr>\n",
       "      <th>213</th>\n",
       "      <td>213</td>\n",
       "      <td>19.095113</td>\n",
       "    </tr>\n",
       "    <tr>\n",
       "      <th>109</th>\n",
       "      <td>109</td>\n",
       "      <td>17.522685</td>\n",
       "    </tr>\n",
       "    <tr>\n",
       "      <th>127</th>\n",
       "      <td>127</td>\n",
       "      <td>14.947902</td>\n",
       "    </tr>\n",
       "    <tr>\n",
       "      <th>244</th>\n",
       "      <td>244</td>\n",
       "      <td>22.793336</td>\n",
       "    </tr>\n",
       "    <tr>\n",
       "      <th>406</th>\n",
       "      <td>406</td>\n",
       "      <td>25.237959</td>\n",
       "    </tr>\n",
       "    <tr>\n",
       "      <th>490</th>\n",
       "      <td>490</td>\n",
       "      <td>3.708052</td>\n",
       "    </tr>\n",
       "    <tr>\n",
       "      <th>245</th>\n",
       "      <td>245</td>\n",
       "      <td>23.772680</td>\n",
       "    </tr>\n",
       "    <tr>\n",
       "      <th>133</th>\n",
       "      <td>133</td>\n",
       "      <td>15.204649</td>\n",
       "    </tr>\n",
       "  </tbody>\n",
       "</table>\n",
       "</div>"
      ],
      "text/plain": [
       "     KEY  Estimator\n",
       "230  230  19.344752\n",
       "112  112  15.972185\n",
       "125  125  20.570982\n",
       "9      9  22.340942\n",
       "213  213  19.095113\n",
       "109  109  17.522685\n",
       "127  127  14.947902\n",
       "244  244  22.793336\n",
       "406  406  25.237959\n",
       "490  490   3.708052\n",
       "245  245  23.772680\n",
       "133  133  15.204649"
      ]
     },
     "execution_count": 13,
     "metadata": {},
     "output_type": "execute_result"
    }
   ],
   "source": [
    "skl_output = pd.DataFrame()\n",
    "skl_output_key = pd.DataFrame(list(range(boston.data.shape[0])), columns=['KEY']);\n",
    "skl_output_estimator = pd.DataFrame(clf.predict(boston.data), columns=['Estimator'])\n",
    "skl_output = skl_output_key\n",
    "skl_output['Estimator'] = skl_output_estimator\n",
    "skl_output.sample(12, random_state=1960)"
   ]
  },
  {
   "cell_type": "markdown",
   "metadata": {
    "format": "column"
   },
   "source": [
    "# Comparing the SQL and Keras Predictions"
   ]
  },
  {
   "cell_type": "code",
   "execution_count": 14,
   "metadata": {},
   "outputs": [],
   "source": [
    "sql_skl_join = skl_output.join(sql_output , how='left', on='KEY', lsuffix='_skl', rsuffix='_sql')\n",
    "sql_skl_join['Error'] = sql_skl_join.Estimator_sql - sql_skl_join.Estimator_skl"
   ]
  },
  {
   "cell_type": "code",
   "execution_count": 15,
   "metadata": {},
   "outputs": [
    {
     "data": {
      "text/html": [
       "<div>\n",
       "<style scoped>\n",
       "    .dataframe tbody tr th:only-of-type {\n",
       "        vertical-align: middle;\n",
       "    }\n",
       "\n",
       "    .dataframe tbody tr th {\n",
       "        vertical-align: top;\n",
       "    }\n",
       "\n",
       "    .dataframe thead th {\n",
       "        text-align: right;\n",
       "    }\n",
       "</style>\n",
       "<table border=\"1\" class=\"dataframe\">\n",
       "  <thead>\n",
       "    <tr style=\"text-align: right;\">\n",
       "      <th></th>\n",
       "      <th>KEY_skl</th>\n",
       "      <th>Estimator_skl</th>\n",
       "      <th>KEY_sql</th>\n",
       "      <th>Estimator_sql</th>\n",
       "      <th>Error</th>\n",
       "    </tr>\n",
       "  </thead>\n",
       "  <tbody>\n",
       "    <tr>\n",
       "      <th>0</th>\n",
       "      <td>0</td>\n",
       "      <td>20.918060</td>\n",
       "      <td>0</td>\n",
       "      <td>20.918060</td>\n",
       "      <td>-4.263256e-14</td>\n",
       "    </tr>\n",
       "    <tr>\n",
       "      <th>1</th>\n",
       "      <td>1</td>\n",
       "      <td>22.171661</td>\n",
       "      <td>1</td>\n",
       "      <td>22.171661</td>\n",
       "      <td>1.421085e-14</td>\n",
       "    </tr>\n",
       "    <tr>\n",
       "      <th>2</th>\n",
       "      <td>2</td>\n",
       "      <td>21.459476</td>\n",
       "      <td>2</td>\n",
       "      <td>21.459476</td>\n",
       "      <td>9.592327e-14</td>\n",
       "    </tr>\n",
       "    <tr>\n",
       "      <th>3</th>\n",
       "      <td>3</td>\n",
       "      <td>22.897451</td>\n",
       "      <td>3</td>\n",
       "      <td>22.897451</td>\n",
       "      <td>1.421085e-14</td>\n",
       "    </tr>\n",
       "    <tr>\n",
       "      <th>4</th>\n",
       "      <td>4</td>\n",
       "      <td>23.343215</td>\n",
       "      <td>4</td>\n",
       "      <td>23.343215</td>\n",
       "      <td>-1.421085e-14</td>\n",
       "    </tr>\n",
       "    <tr>\n",
       "      <th>5</th>\n",
       "      <td>5</td>\n",
       "      <td>23.168069</td>\n",
       "      <td>5</td>\n",
       "      <td>23.168069</td>\n",
       "      <td>3.907985e-14</td>\n",
       "    </tr>\n",
       "    <tr>\n",
       "      <th>6</th>\n",
       "      <td>6</td>\n",
       "      <td>21.425313</td>\n",
       "      <td>6</td>\n",
       "      <td>21.425313</td>\n",
       "      <td>-2.842171e-14</td>\n",
       "    </tr>\n",
       "    <tr>\n",
       "      <th>7</th>\n",
       "      <td>7</td>\n",
       "      <td>22.737048</td>\n",
       "      <td>7</td>\n",
       "      <td>22.737048</td>\n",
       "      <td>1.065814e-13</td>\n",
       "    </tr>\n",
       "    <tr>\n",
       "      <th>8</th>\n",
       "      <td>8</td>\n",
       "      <td>22.816067</td>\n",
       "      <td>8</td>\n",
       "      <td>22.816067</td>\n",
       "      <td>1.207923e-13</td>\n",
       "    </tr>\n",
       "    <tr>\n",
       "      <th>9</th>\n",
       "      <td>9</td>\n",
       "      <td>22.340942</td>\n",
       "      <td>9</td>\n",
       "      <td>22.340942</td>\n",
       "      <td>5.329071e-14</td>\n",
       "    </tr>\n",
       "    <tr>\n",
       "      <th>10</th>\n",
       "      <td>10</td>\n",
       "      <td>22.885972</td>\n",
       "      <td>10</td>\n",
       "      <td>22.885972</td>\n",
       "      <td>8.171241e-14</td>\n",
       "    </tr>\n",
       "    <tr>\n",
       "      <th>11</th>\n",
       "      <td>11</td>\n",
       "      <td>22.355442</td>\n",
       "      <td>11</td>\n",
       "      <td>22.355442</td>\n",
       "      <td>4.973799e-14</td>\n",
       "    </tr>\n",
       "  </tbody>\n",
       "</table>\n",
       "</div>"
      ],
      "text/plain": [
       "    KEY_skl  Estimator_skl  KEY_sql  Estimator_sql         Error\n",
       "0         0      20.918060        0      20.918060 -4.263256e-14\n",
       "1         1      22.171661        1      22.171661  1.421085e-14\n",
       "2         2      21.459476        2      21.459476  9.592327e-14\n",
       "3         3      22.897451        3      22.897451  1.421085e-14\n",
       "4         4      23.343215        4      23.343215 -1.421085e-14\n",
       "5         5      23.168069        5      23.168069  3.907985e-14\n",
       "6         6      21.425313        6      21.425313 -2.842171e-14\n",
       "7         7      22.737048        7      22.737048  1.065814e-13\n",
       "8         8      22.816067        8      22.816067  1.207923e-13\n",
       "9         9      22.340942        9      22.340942  5.329071e-14\n",
       "10       10      22.885972       10      22.885972  8.171241e-14\n",
       "11       11      22.355442       11      22.355442  4.973799e-14"
      ]
     },
     "execution_count": 15,
     "metadata": {},
     "output_type": "execute_result"
    }
   ],
   "source": [
    "sql_skl_join.head(12)"
   ]
  },
  {
   "cell_type": "code",
   "execution_count": 16,
   "metadata": {},
   "outputs": [
    {
     "data": {
      "text/html": [
       "<div>\n",
       "<style scoped>\n",
       "    .dataframe tbody tr th:only-of-type {\n",
       "        vertical-align: middle;\n",
       "    }\n",
       "\n",
       "    .dataframe tbody tr th {\n",
       "        vertical-align: top;\n",
       "    }\n",
       "\n",
       "    .dataframe thead th {\n",
       "        text-align: right;\n",
       "    }\n",
       "</style>\n",
       "<table border=\"1\" class=\"dataframe\">\n",
       "  <thead>\n",
       "    <tr style=\"text-align: right;\">\n",
       "      <th></th>\n",
       "      <th>KEY_skl</th>\n",
       "      <th>Estimator_skl</th>\n",
       "      <th>KEY_sql</th>\n",
       "      <th>Estimator_sql</th>\n",
       "      <th>Error</th>\n",
       "    </tr>\n",
       "  </thead>\n",
       "  <tbody>\n",
       "    <tr>\n",
       "      <th>count</th>\n",
       "      <td>506.000000</td>\n",
       "      <td>506.000000</td>\n",
       "      <td>506.000000</td>\n",
       "      <td>506.000000</td>\n",
       "      <td>5.060000e+02</td>\n",
       "    </tr>\n",
       "    <tr>\n",
       "      <th>mean</th>\n",
       "      <td>252.500000</td>\n",
       "      <td>18.781477</td>\n",
       "      <td>252.500000</td>\n",
       "      <td>18.781477</td>\n",
       "      <td>1.889988e-14</td>\n",
       "    </tr>\n",
       "    <tr>\n",
       "      <th>std</th>\n",
       "      <td>146.213884</td>\n",
       "      <td>7.474813</td>\n",
       "      <td>146.213884</td>\n",
       "      <td>7.474813</td>\n",
       "      <td>4.939573e-14</td>\n",
       "    </tr>\n",
       "    <tr>\n",
       "      <th>min</th>\n",
       "      <td>0.000000</td>\n",
       "      <td>-6.690646</td>\n",
       "      <td>0.000000</td>\n",
       "      <td>-6.690646</td>\n",
       "      <td>-1.811884e-13</td>\n",
       "    </tr>\n",
       "    <tr>\n",
       "      <th>25%</th>\n",
       "      <td>126.250000</td>\n",
       "      <td>15.685156</td>\n",
       "      <td>126.250000</td>\n",
       "      <td>15.685156</td>\n",
       "      <td>-1.421085e-14</td>\n",
       "    </tr>\n",
       "    <tr>\n",
       "      <th>50%</th>\n",
       "      <td>252.500000</td>\n",
       "      <td>20.030195</td>\n",
       "      <td>252.500000</td>\n",
       "      <td>20.030195</td>\n",
       "      <td>1.776357e-14</td>\n",
       "    </tr>\n",
       "    <tr>\n",
       "      <th>75%</th>\n",
       "      <td>378.750000</td>\n",
       "      <td>22.419377</td>\n",
       "      <td>378.750000</td>\n",
       "      <td>22.419377</td>\n",
       "      <td>5.140333e-14</td>\n",
       "    </tr>\n",
       "    <tr>\n",
       "      <th>max</th>\n",
       "      <td>505.000000</td>\n",
       "      <td>80.034728</td>\n",
       "      <td>505.000000</td>\n",
       "      <td>80.034728</td>\n",
       "      <td>1.527667e-13</td>\n",
       "    </tr>\n",
       "  </tbody>\n",
       "</table>\n",
       "</div>"
      ],
      "text/plain": [
       "          KEY_skl  Estimator_skl     KEY_sql  Estimator_sql         Error\n",
       "count  506.000000     506.000000  506.000000     506.000000  5.060000e+02\n",
       "mean   252.500000      18.781477  252.500000      18.781477  1.889988e-14\n",
       "std    146.213884       7.474813  146.213884       7.474813  4.939573e-14\n",
       "min      0.000000      -6.690646    0.000000      -6.690646 -1.811884e-13\n",
       "25%    126.250000      15.685156  126.250000      15.685156 -1.421085e-14\n",
       "50%    252.500000      20.030195  252.500000      20.030195  1.776357e-14\n",
       "75%    378.750000      22.419377  378.750000      22.419377  5.140333e-14\n",
       "max    505.000000      80.034728  505.000000      80.034728  1.527667e-13"
      ]
     },
     "execution_count": 16,
     "metadata": {},
     "output_type": "execute_result"
    }
   ],
   "source": [
    "sql_skl_join.describe()"
   ]
  },
  {
   "cell_type": "code",
   "execution_count": null,
   "metadata": {},
   "outputs": [],
   "source": []
  }
 ],
 "metadata": {
  "kernelspec": {
   "display_name": "Python 3",
   "language": "python",
   "name": "python3"
  },
  "language_info": {
   "codemirror_mode": {
    "name": "ipython",
    "version": 3
   },
   "file_extension": ".py",
   "mimetype": "text/x-python",
   "name": "python",
   "nbconvert_exporter": "python",
   "pygments_lexer": "ipython3",
   "version": "3.6.5"
  }
 },
 "nbformat": 4,
 "nbformat_minor": 2
}
